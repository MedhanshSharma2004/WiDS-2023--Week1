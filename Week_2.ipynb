{
 "cells": [
  {
   "cell_type": "markdown",
   "metadata": {
    "id": "4OSeJ-R-y9s7"
   },
   "source": [
    "# Linear Regression\n",
    "\n",
    "Linear regression analysis is used to predict the value of a variable based on the value of another variable. The variable you want to predict is called the dependent variable. The variable you are using to predict the other variable's value is called the independent variable\n",
    "\n",
    "This week, your task involves conducting multi-class linear regression on batsmen salaries. You'll use the average runs scored per game and the strike rate as independent variables. The goal is to predict the salary as the dependent variable. Additionally, you'll be categorizing the data based on the years.\n",
    "\n",
    "The dataset is Data_Mendeley.csv given on GitHub. Feel free to create any new functions required."
   ]
  },
  {
   "cell_type": "code",
   "execution_count": 5,
   "metadata": {
    "id": "AZ77VEImzRW5"
   },
   "outputs": [],
   "source": [
    "#import important libraries\n",
    "import numpy as np\n",
    "import pandas as pd\n",
    "import statsmodels.api as sm\n",
    "import matplotlib.pyplot as plt"
   ]
  },
  {
   "cell_type": "markdown",
   "metadata": {
    "id": "2oQPpSttzqt6"
   },
   "source": [
    "preparing data"
   ]
  },
  {
   "cell_type": "code",
   "execution_count": 2,
   "metadata": {
    "id": "NgyvUuEMAVEr"
   },
   "outputs": [
    {
     "data": {
      "text/html": [
       "<div>\n",
       "<style scoped>\n",
       "    .dataframe tbody tr th:only-of-type {\n",
       "        vertical-align: middle;\n",
       "    }\n",
       "\n",
       "    .dataframe tbody tr th {\n",
       "        vertical-align: top;\n",
       "    }\n",
       "\n",
       "    .dataframe thead th {\n",
       "        text-align: right;\n",
       "    }\n",
       "</style>\n",
       "<table border=\"1\" class=\"dataframe\">\n",
       "  <thead>\n",
       "    <tr style=\"text-align: right;\">\n",
       "      <th></th>\n",
       "      <th>Id</th>\n",
       "      <th>Name</th>\n",
       "      <th>Year</th>\n",
       "      <th>Final Price</th>\n",
       "      <th>Role</th>\n",
       "      <th>Nationality</th>\n",
       "      <th>Team</th>\n",
       "      <th>Ent</th>\n",
       "      <th>Age</th>\n",
       "      <th>Matches</th>\n",
       "      <th>...</th>\n",
       "      <th>LWkts</th>\n",
       "      <th>Econ</th>\n",
       "      <th>LEcon</th>\n",
       "      <th>FourWkts</th>\n",
       "      <th>LFourWkts</th>\n",
       "      <th>FiveWkts</th>\n",
       "      <th>LFiveWkts</th>\n",
       "      <th>Indian</th>\n",
       "      <th>Specialist</th>\n",
       "      <th>Status</th>\n",
       "    </tr>\n",
       "  </thead>\n",
       "  <tbody>\n",
       "    <tr>\n",
       "      <th>0</th>\n",
       "      <td>1</td>\n",
       "      <td>AB de Villiers</td>\n",
       "      <td>2008</td>\n",
       "      <td>12048000</td>\n",
       "      <td>Wicketkeeper batsman</td>\n",
       "      <td>South African</td>\n",
       "      <td>DD</td>\n",
       "      <td>0</td>\n",
       "      <td>24</td>\n",
       "      <td>6</td>\n",
       "      <td>...</td>\n",
       "      <td>0</td>\n",
       "      <td>0.0</td>\n",
       "      <td>0.0</td>\n",
       "      <td>0</td>\n",
       "      <td>0</td>\n",
       "      <td>0</td>\n",
       "      <td>0</td>\n",
       "      <td>0</td>\n",
       "      <td>1</td>\n",
       "      <td>218</td>\n",
       "    </tr>\n",
       "    <tr>\n",
       "      <th>1</th>\n",
       "      <td>1</td>\n",
       "      <td>AB de Villiers</td>\n",
       "      <td>2009</td>\n",
       "      <td>14736000</td>\n",
       "      <td>Wicketkeeper batsman</td>\n",
       "      <td>South African</td>\n",
       "      <td>DD</td>\n",
       "      <td>0</td>\n",
       "      <td>25</td>\n",
       "      <td>15</td>\n",
       "      <td>...</td>\n",
       "      <td>0</td>\n",
       "      <td>0.0</td>\n",
       "      <td>0.0</td>\n",
       "      <td>0</td>\n",
       "      <td>0</td>\n",
       "      <td>0</td>\n",
       "      <td>0</td>\n",
       "      <td>0</td>\n",
       "      <td>1</td>\n",
       "      <td>329</td>\n",
       "    </tr>\n",
       "    <tr>\n",
       "      <th>2</th>\n",
       "      <td>1</td>\n",
       "      <td>AB de Villiers</td>\n",
       "      <td>2010</td>\n",
       "      <td>13887000</td>\n",
       "      <td>Wicketkeeper batsman</td>\n",
       "      <td>South African</td>\n",
       "      <td>DD</td>\n",
       "      <td>0</td>\n",
       "      <td>26</td>\n",
       "      <td>7</td>\n",
       "      <td>...</td>\n",
       "      <td>0</td>\n",
       "      <td>0.0</td>\n",
       "      <td>0.0</td>\n",
       "      <td>0</td>\n",
       "      <td>0</td>\n",
       "      <td>0</td>\n",
       "      <td>0</td>\n",
       "      <td>0</td>\n",
       "      <td>1</td>\n",
       "      <td>885</td>\n",
       "    </tr>\n",
       "    <tr>\n",
       "      <th>3</th>\n",
       "      <td>1</td>\n",
       "      <td>AB de Villiers</td>\n",
       "      <td>2011</td>\n",
       "      <td>50600000</td>\n",
       "      <td>Wicketkeeper batsman</td>\n",
       "      <td>South African</td>\n",
       "      <td>RCB</td>\n",
       "      <td>0</td>\n",
       "      <td>27</td>\n",
       "      <td>16</td>\n",
       "      <td>...</td>\n",
       "      <td>0</td>\n",
       "      <td>0.0</td>\n",
       "      <td>0.0</td>\n",
       "      <td>0</td>\n",
       "      <td>0</td>\n",
       "      <td>0</td>\n",
       "      <td>0</td>\n",
       "      <td>0</td>\n",
       "      <td>1</td>\n",
       "      <td>1316</td>\n",
       "    </tr>\n",
       "    <tr>\n",
       "      <th>4</th>\n",
       "      <td>1</td>\n",
       "      <td>AB de Villiers</td>\n",
       "      <td>2012</td>\n",
       "      <td>55297000</td>\n",
       "      <td>Wicketkeeper batsman</td>\n",
       "      <td>South African</td>\n",
       "      <td>RCB</td>\n",
       "      <td>0</td>\n",
       "      <td>28</td>\n",
       "      <td>16</td>\n",
       "      <td>...</td>\n",
       "      <td>0</td>\n",
       "      <td>0.0</td>\n",
       "      <td>0.0</td>\n",
       "      <td>0</td>\n",
       "      <td>0</td>\n",
       "      <td>0</td>\n",
       "      <td>0</td>\n",
       "      <td>0</td>\n",
       "      <td>1</td>\n",
       "      <td>1075</td>\n",
       "    </tr>\n",
       "  </tbody>\n",
       "</table>\n",
       "<p>5 rows × 42 columns</p>\n",
       "</div>"
      ],
      "text/plain": [
       "   Id            Name  Year  Final Price                  Role    Nationality  \\\n",
       "0   1  AB de Villiers  2008     12048000  Wicketkeeper batsman  South African   \n",
       "1   1  AB de Villiers  2009     14736000  Wicketkeeper batsman  South African   \n",
       "2   1  AB de Villiers  2010     13887000  Wicketkeeper batsman  South African   \n",
       "3   1  AB de Villiers  2011     50600000  Wicketkeeper batsman  South African   \n",
       "4   1  AB de Villiers  2012     55297000  Wicketkeeper batsman  South African   \n",
       "\n",
       "  Team  Ent  Age  Matches  ...  LWkts  Econ  LEcon  FourWkts  LFourWkts  \\\n",
       "0   DD    0   24        6  ...      0   0.0    0.0         0          0   \n",
       "1   DD    0   25       15  ...      0   0.0    0.0         0          0   \n",
       "2   DD    0   26        7  ...      0   0.0    0.0         0          0   \n",
       "3  RCB    0   27       16  ...      0   0.0    0.0         0          0   \n",
       "4  RCB    0   28       16  ...      0   0.0    0.0         0          0   \n",
       "\n",
       "   FiveWkts  LFiveWkts  Indian  Specialist  Status  \n",
       "0         0          0       0           1     218  \n",
       "1         0          0       0           1     329  \n",
       "2         0          0       0           1     885  \n",
       "3         0          0       0           1    1316  \n",
       "4         0          0       0           1    1075  \n",
       "\n",
       "[5 rows x 42 columns]"
      ]
     },
     "execution_count": 2,
     "metadata": {},
     "output_type": "execute_result"
    }
   ],
   "source": [
    "df = pd.read_csv(\"C:\\\\Users\\\\medha\\\\Downloads\\\\Data_Mendeley.csv\")\n",
    "df.head()"
   ]
  },
  {
   "cell_type": "code",
   "execution_count": 3,
   "metadata": {
    "id": "C9C0MZOGzg7g"
   },
   "outputs": [
    {
     "name": "stdout",
     "output_type": "stream",
     "text": [
      "     Ave  StrRate\n",
      "0  19.00    96.93\n",
      "1  51.66   130.98\n",
      "2  15.85    93.27\n",
      "3  34.66   128.39\n",
      "4  39.87   161.11\n"
     ]
    }
   ],
   "source": [
    "X = df[['Ave', 'StrRate']]\n",
    "print(X.head())"
   ]
  },
  {
   "cell_type": "code",
   "execution_count": 6,
   "metadata": {
    "id": "LV9ROCrR1hQ5"
   },
   "outputs": [
    {
     "name": "stdout",
     "output_type": "stream",
     "text": [
      "   Final Price\n",
      "0     12048000\n",
      "1     14736000\n",
      "2     13887000\n",
      "3     50600000\n",
      "4     55297000\n"
     ]
    }
   ],
   "source": [
    "y = df[['Final Price']]\n",
    "print(y.head())"
   ]
  },
  {
   "cell_type": "code",
   "execution_count": 14,
   "metadata": {
    "id": "AgySD6Ac1DCw"
   },
   "outputs": [
    {
     "name": "stdout",
     "output_type": "stream",
     "text": [
      "                            OLS Regression Results                            \n",
      "==============================================================================\n",
      "Dep. Variable:            Final Price   R-squared:                       0.130\n",
      "Model:                            OLS   Adj. R-squared:                  0.128\n",
      "Method:                 Least Squares   F-statistic:                     82.21\n",
      "Date:                Sat, 30 Dec 2023   Prob (F-statistic):           5.17e-34\n",
      "Time:                        19:30:39   Log-Likelihood:                -20572.\n",
      "No. Observations:                1108   AIC:                         4.115e+04\n",
      "Df Residuals:                    1105   BIC:                         4.116e+04\n",
      "Df Model:                           2                                         \n",
      "Covariance Type:            nonrobust                                         \n",
      "==============================================================================\n",
      "                 coef    std err          t      P>|t|      [0.025      0.975]\n",
      "------------------------------------------------------------------------------\n",
      "const       1.199e+07    1.6e+06      7.476      0.000    8.84e+06    1.51e+07\n",
      "Ave           5.8e+05   7.21e+04      8.045      0.000    4.39e+05    7.21e+05\n",
      "StrRate     3.982e+04   1.96e+04      2.031      0.043    1342.324    7.83e+04\n",
      "==============================================================================\n",
      "Omnibus:                      292.271   Durbin-Watson:                   0.773\n",
      "Prob(Omnibus):                  0.000   Jarque-Bera (JB):              656.256\n",
      "Skew:                           1.452   Prob(JB):                    3.13e-143\n",
      "Kurtosis:                       5.404   Cond. No.                         212.\n",
      "==============================================================================\n",
      "\n",
      "Notes:\n",
      "[1] Standard Errors assume that the covariance matrix of the errors is correctly specified.\n"
     ]
    }
   ],
   "source": [
    "X = sm.add_constant(X)\n",
    "model = sm.OLS(y,X).fit()\n",
    "print(model.summary())"
   ]
  },
  {
   "cell_type": "markdown",
   "metadata": {
    "id": "B3uHaq5x1i7p"
   },
   "source": [
    "Mean Squared Loss"
   ]
  },
  {
   "cell_type": "code",
   "execution_count": 29,
   "metadata": {
    "id": "eP2rV0z21IaN"
   },
   "outputs": [
    {
     "name": "stdout",
     "output_type": "stream",
     "text": [
      "0    2.195711e+14\n",
      "1    1.051598e+15\n",
      "2    1.211368e+14\n",
      "3    1.795243e+14\n",
      "4    1.896409e+14\n",
      "Name: e, dtype: float64\n",
      "Mean Square Error:  784150813120748.9\n"
     ]
    }
   ],
   "source": [
    "y = df['Final Price'] \n",
    "y_pred = model.predict(X)  \n",
    "df['e'] = (y - y_pred)**2\n",
    "print(df['e'].head())\n",
    "mse = df['e'].mean()\n",
    "print(\"Mean Square Error: \", mse)"
   ]
  },
  {
   "cell_type": "markdown",
   "metadata": {
    "id": "aTAky_OS1w0P"
   },
   "source": [
    "# Logistic Regression\n",
    "\n",
    "Logistic regression is a process of modeling the probability of a discrete outcome given an input variable. The most common logistic regression models a binary outcome; something that can take two values such as true/false, yes/no, and so on.\n",
    "\n",
    "In this week you will be doing logistic regression on breast cancer dataset using sklearn library. Feel free to create any new functions required."
   ]
  },
  {
   "cell_type": "code",
   "execution_count": 35,
   "metadata": {
    "id": "E56ck0_P2NR9"
   },
   "outputs": [],
   "source": [
    "from sklearn import datasets\n",
    "from sklearn.model_selection import train_test_split\n",
    "from sklearn.preprocessing import StandardScaler\n",
    "from sklearn.linear_model import LogisticRegression\n",
    "from sklearn.metrics import accuracy_score"
   ]
  },
  {
   "cell_type": "code",
   "execution_count": 36,
   "metadata": {
    "id": "_uUSV8Xk2ePh"
   },
   "outputs": [],
   "source": [
    "# Load the breast cancer dataset\n",
    "breast_cancer = datasets.load_breast_cancer()\n",
    "X, y = breast_cancer.data, breast_cancer.target"
   ]
  },
  {
   "cell_type": "code",
   "execution_count": 37,
   "metadata": {
    "id": "N6jcbk5g29XW"
   },
   "outputs": [],
   "source": [
    "# Split the data into training and testing sets\n",
    "X_train, X_test, y_train, y_test = train_test_split(X, y, test_size=0.2, random_state=1234)"
   ]
  },
  {
   "cell_type": "code",
   "execution_count": 38,
   "metadata": {},
   "outputs": [],
   "source": [
    "# Standardize the features using StandardScaler\n",
    "sc = StandardScaler()\n",
    "X_train = sc.fit_transform(X_train)\n",
    "X_test = sc.transform(X_test)"
   ]
  },
  {
   "cell_type": "code",
   "execution_count": 40,
   "metadata": {},
   "outputs": [
    {
     "name": "stdout",
     "output_type": "stream",
     "text": [
      "Model Accuracy: 0.956140350877193\n"
     ]
    }
   ],
   "source": [
    "# Instantiate the logistic regression model\n",
    "model = LogisticRegression(random_state=1234)\n",
    "\n",
    "# Train the model on the training data\n",
    "model.fit(X_train, y_train)\n",
    "\n",
    "# Make predictions on the test data\n",
    "y_pred = model.predict(X_test)\n",
    "\n",
    "# Evaluate the model accuracy\n",
    "accuracy = accuracy_score(y_test, y_pred)\n",
    "print(\"Model Accuracy:\", accuracy)"
   ]
  },
  {
   "cell_type": "code",
   "execution_count": 31,
   "metadata": {
    "id": "QkXgo04D3dGW"
   },
   "outputs": [],
   "source": [
    "def BCELoss(y, y_pred):\n",
    "    # Ensure inputs are numpy arrays to handle both lists and numpy arrays\n",
    "    y = np.array(y)\n",
    "    y_pred = np.array(y_pred)\n",
    "\n",
    "    # Clip predictions to avoid log(0) issues\n",
    "    epsilon = 1e-15\n",
    "    y_pred = np.clip(y_pred, epsilon, 1 - epsilon)\n",
    "\n",
    "    # Calculate binary cross-entropy loss\n",
    "    loss = -(y * np.log(y_pred) + (1 - y) * np.log(1 - y_pred)).mean()\n",
    "\n",
    "    return loss"
   ]
  },
  {
   "cell_type": "code",
   "execution_count": 34,
   "metadata": {
    "id": "gBJ6H_ss3yUr"
   },
   "outputs": [
    {
     "name": "stdout",
     "output_type": "stream",
     "text": [
      "1.5148936838746005\n"
     ]
    }
   ],
   "source": [
    "print(BCELoss(y_test, y_pred))"
   ]
  }
 ],
 "metadata": {
  "colab": {
   "provenance": []
  },
  "kernelspec": {
   "display_name": "Python 3 (ipykernel)",
   "language": "python",
   "name": "python3"
  },
  "language_info": {
   "codemirror_mode": {
    "name": "ipython",
    "version": 3
   },
   "file_extension": ".py",
   "mimetype": "text/x-python",
   "name": "python",
   "nbconvert_exporter": "python",
   "pygments_lexer": "ipython3",
   "version": "3.10.9"
  }
 },
 "nbformat": 4,
 "nbformat_minor": 1
}
